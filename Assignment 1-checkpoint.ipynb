{
 "cells": [
  {
   "cell_type": "markdown",
   "id": "5c2ab5cf",
   "metadata": {},
   "source": [
    "# Assignment 1"
   ]
  },
  {
   "cell_type": "markdown",
   "id": "57b5e248",
   "metadata": {},
   "source": [
    "### Q1Take input first name and last name from user store in two variables and then concatenate both variables and print full name"
   ]
  },
  {
   "cell_type": "code",
   "execution_count": null,
   "id": "57ce7797",
   "metadata": {},
   "outputs": [],
   "source": []
  },
  {
   "cell_type": "markdown",
   "id": "11fd6687",
   "metadata": {},
   "source": [
    "### Q2 Write a Python program to take input from user as a string then print first 2 and the last 2 chars from a given a string."
   ]
  },
  {
   "cell_type": "code",
   "execution_count": null,
   "id": "11272b81",
   "metadata": {},
   "outputs": [],
   "source": []
  },
  {
   "cell_type": "markdown",
   "id": "72d58e06",
   "metadata": {},
   "source": [
    "### Q3 Write a Python program to remove the “h” character from the “TechShoor”."
   ]
  },
  {
   "cell_type": "code",
   "execution_count": null,
   "id": "66b43238",
   "metadata": {},
   "outputs": [],
   "source": []
  },
  {
   "cell_type": "markdown",
   "id": "8908f564",
   "metadata": {},
   "source": [
    "### Q4 Write a Python program that accepts a comma separated sequence of words as input and prints the unique words in sorted form (alphanumerically).Sample Words: car, bike, truck, cycle, skateboard, civic"
   ]
  },
  {
   "cell_type": "code",
   "execution_count": null,
   "id": "f45b81c4",
   "metadata": {},
   "outputs": [],
   "source": []
  },
  {
   "cell_type": "markdown",
   "id": "9b8ee0ff",
   "metadata": {},
   "source": [
    "### Q5 Write a Python Program take sample string: “I am a bad person” to replace with “I am a good person”. Hint (Use replace function)"
   ]
  },
  {
   "cell_type": "code",
   "execution_count": null,
   "id": "55493d07",
   "metadata": {},
   "outputs": [],
   "source": []
  },
  {
   "cell_type": "markdown",
   "id": "cd70f5e2",
   "metadata": {},
   "source": [
    "### Q6 Write a Python program to reverse any string."
   ]
  },
  {
   "cell_type": "code",
   "execution_count": null,
   "id": "0913e1bd",
   "metadata": {},
   "outputs": [],
   "source": []
  },
  {
   "cell_type": "markdown",
   "id": "577a58d2",
   "metadata": {},
   "source": [
    "### Q7 Write a Python program which accepts the radius of a circle from the user and compute the area"
   ]
  },
  {
   "cell_type": "code",
   "execution_count": null,
   "id": "46302883",
   "metadata": {},
   "outputs": [],
   "source": []
  },
  {
   "cell_type": "markdown",
   "id": "3850d064",
   "metadata": {},
   "source": [
    "### Q8 Write a Python Program to count how many times ‘o’ in “Gooooooooooooooooogle”"
   ]
  },
  {
   "cell_type": "code",
   "execution_count": null,
   "id": "fadae19f",
   "metadata": {},
   "outputs": [],
   "source": []
  },
  {
   "cell_type": "markdown",
   "id": "9edfe853",
   "metadata": {},
   "source": [
    "### Q9 Create a Python Program to slice this string “I like to eat banana” and print only “ike to eat”"
   ]
  },
  {
   "cell_type": "code",
   "execution_count": null,
   "id": "f3f2e58f",
   "metadata": {},
   "outputs": [],
   "source": []
  },
  {
   "cell_type": "markdown",
   "id": "1ed23ae9",
   "metadata": {},
   "source": [
    "### Q10 Write a Python program to print the following string in a specific format. (see Output)"
   ]
  },
  {
   "cell_type": "raw",
   "id": "6c2b61ee",
   "metadata": {},
   "source": [
    "Sample String : \"Twinkle, twinkle, little star, How I wonder what you are! Up above the world so high, Like a diamond in the sky. Twinkle, twinkle, little star,How I wonder what you are\"\n",
    "\n",
    "Output :\n",
    "\n",
    "Twinkle, twinkle, little star,\n",
    "  How I wonder what you are!\n",
    "        Up above the world so high,\n",
    "        Like a diamond in the sky.\n",
    "Twinkle, twinkle, little star,\n",
    "  How I wonder what you are\n",
    "  \n",
    "The above output is required in print form"
   ]
  },
  {
   "cell_type": "code",
   "execution_count": null,
   "id": "e9f5d2a6",
   "metadata": {},
   "outputs": [],
   "source": []
  }
 ],
 "metadata": {
  "kernelspec": {
   "display_name": "Python 3",
   "language": "python",
   "name": "python3"
  },
  "language_info": {
   "codemirror_mode": {
    "name": "ipython",
    "version": 3
   },
   "file_extension": ".py",
   "mimetype": "text/x-python",
   "name": "python",
   "nbconvert_exporter": "python",
   "pygments_lexer": "ipython3",
   "version": "3.8.8"
  }
 },
 "nbformat": 4,
 "nbformat_minor": 5
}
