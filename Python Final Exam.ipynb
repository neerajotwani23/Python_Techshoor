{
 "cells": [
  {
   "cell_type": "code",
   "execution_count": 106,
   "id": "25217337",
   "metadata": {},
   "outputs": [],
   "source": [
    "#Name : Neeraj\n",
    "\n",
    "#Roll Number :  \n",
    "\n",
    "#Email : neerajotwani23@gmail.com"
   ]
  },
  {
   "cell_type": "markdown",
   "id": "68d58cc5",
   "metadata": {},
   "source": [
    "Solve the problems on your own, if we found code plagiarism, so we will hold your certification.                                                                                                                      \n",
    "Submit this File Before 31-01-2022 6:00 PM (Pakistan Time)"
   ]
  },
  {
   "cell_type": "markdown",
   "id": "c051b520",
   "metadata": {},
   "source": [
    "Note: Contact us if you are getting any error.\n",
    "    \n",
    "WhatsApp: +923010001547"
   ]
  },
  {
   "cell_type": "markdown",
   "id": "4a793f66",
   "metadata": {},
   "source": [
    "# Problem 1"
   ]
  },
  {
   "cell_type": "markdown",
   "id": "182dd1eb",
   "metadata": {},
   "source": [
    "Add parentheses to the following expression so that it evaluates to 0.\n",
    "\n",
    "   8 - 3 * 2 - 1 + 1\n",
    "   \n",
    "   Answer:"
   ]
  },
  {
   "cell_type": "code",
   "execution_count": 81,
   "id": "a610786b",
   "metadata": {},
   "outputs": [],
   "source": [
    "#Write your Answer in this Cell\n",
    "8-(3*2)-(1+1)\n"
   ]
  },
  {
   "cell_type": "markdown",
   "id": "882e671f",
   "metadata": {},
   "source": [
    "# Problem 2"
   ]
  },
  {
   "cell_type": "raw",
   "id": "9ad96b30",
   "metadata": {},
   "source": [
    "Write a funtion which perform Addition , Multiplication , Substraction, Division. And perform all this operation using value \n",
    "a = 2\n",
    "b = 2\n",
    "pass the above value in function as parameter(Argument)."
   ]
  },
  {
   "cell_type": "code",
   "execution_count": 1,
   "id": "b8223665",
   "metadata": {},
   "outputs": [
    {
     "name": "stdout",
     "output_type": "stream",
     "text": [
      "2  +  2  =  4\n",
      "2  -  2  =  0\n",
      "2  *  2  =  4\n",
      "2  /  2  =  1.0\n"
     ]
    }
   ],
   "source": [
    "#Write your Answer in this Cell\n",
    "def function(x,y):\n",
    "    print(x,\" + \",y,\" = \",x+y)\n",
    "    print(x,\" - \",y,\" = \",x-y)\n",
    "    print(x,\" * \",y,\" = \",x*y)\n",
    "    print(x,\" / \",y,\" = \",x/y)\n",
    "\n",
    "\n",
    "a=2\n",
    "b=2\n",
    "function(a,b)\n",
    "\n"
   ]
  },
  {
   "cell_type": "markdown",
   "id": "bb1c6394",
   "metadata": {},
   "source": [
    "# Problem 3"
   ]
  },
  {
   "cell_type": "markdown",
   "id": "1cf9726b",
   "metadata": {},
   "source": [
    "Compose a Python class named Student with two attributes student_id, student_name.Also Add property student_class and show the the said class."
   ]
  },
  {
   "cell_type": "code",
   "execution_count": 7,
   "id": "9fa4d6f5",
   "metadata": {},
   "outputs": [
    {
     "name": "stdout",
     "output_type": "stream",
     "text": [
      "Enter Your Student-ID: 3223\n",
      "Enter Your Name: Neeraj\n",
      "In Which Class Do you Study: 12\n"
     ]
    }
   ],
   "source": [
    "#Write your Answer in this Cell\n",
    "\n",
    "class Student():\n",
    "    def __init__( self, student_id, student_name, student_class):\n",
    "        self.id = student_id\n",
    "        self.name = student_name\n",
    "        self.classs = student_class\n",
    "        \n",
    "    def student_details(self):\n",
    "        print(self.name,\" holds a id \",self.id,\" studies in class \",self.classs)\n",
    "\n",
    "a=int(input(\"Enter Your Student-ID: \"))\n",
    "b=str(input(\"Enter Your Name: \"))\n",
    "c=int(input(\"In Which Class Do you Study: \"))\n",
    "\n",
    "student1 = Student(a,b,c)"
   ]
  },
  {
   "cell_type": "code",
   "execution_count": 9,
   "id": "2349ed9a",
   "metadata": {},
   "outputs": [
    {
     "name": "stdout",
     "output_type": "stream",
     "text": [
      "Neeraj  holds a id  3223  studies in class  12\n"
     ]
    }
   ],
   "source": [
    "#Write your Answer in this Cell\n",
    "\n",
    "student1.student_details()"
   ]
  },
  {
   "cell_type": "markdown",
   "id": "a1d2225a",
   "metadata": {},
   "source": [
    "# Problem 4"
   ]
  },
  {
   "cell_type": "markdown",
   "id": "95b306da",
   "metadata": {},
   "source": [
    "Write a Python function named Circle. Taking the radius of circle and  which will compute two things the area and the perimeter of a circle.\n",
    "\n",
    "π (pi) = 3.14\n",
    "\n",
    "Area of Circle Formula :  A = π r^2\n",
    "\n",
    "Perimeter of a circle Formula : C = 2 π r\n"
   ]
  },
  {
   "cell_type": "code",
   "execution_count": 2,
   "id": "96cc26b4",
   "metadata": {},
   "outputs": [
    {
     "name": "stdout",
     "output_type": "stream",
     "text": [
      "Enter The Radius Of Circle: 5\n",
      "Area Of Circle: 78.55 Perimeter Of Circle: 31.419999999999998\n"
     ]
    }
   ],
   "source": [
    "#Write your Answer in this Cell\n",
    "\n",
    "pie = 3.142\n",
    "\n",
    "def circle(radius):\n",
    "    area = float(pie*radius**2)\n",
    "    perimeter = float(2*pie*radius)\n",
    "    print(\"Area Of Circle: \"+str(area)+\" Perimeter Of Circle: \"+str(perimeter))\n",
    "\n",
    "rad=float(input(\"Enter The Radius Of Circle: \"))\n",
    "circle(rad)\n",
    "\n"
   ]
  },
  {
   "cell_type": "markdown",
   "id": "6f0c7141",
   "metadata": {},
   "source": [
    "# Problem 5"
   ]
  },
  {
   "cell_type": "markdown",
   "id": "519eb358",
   "metadata": {},
   "source": [
    "Write a function which returns True if the given number is negative and False otherwise"
   ]
  },
  {
   "cell_type": "code",
   "execution_count": 5,
   "id": "0826c652",
   "metadata": {},
   "outputs": [
    {
     "name": "stdout",
     "output_type": "stream",
     "text": [
      "Enter a Number -8\n",
      "True\n"
     ]
    }
   ],
   "source": [
    "#Write your Answer in this Cell\n",
    "\n",
    "def function(number):\n",
    "    if (number<0):\n",
    "        return True\n",
    "    else:\n",
    "        return False\n",
    "\n",
    "check=bool(function(int(input(\"Enter a Number \"))))\n",
    "print(check)"
   ]
  },
  {
   "cell_type": "markdown",
   "id": "7f7ebe86",
   "metadata": {},
   "source": [
    "# Problem 6"
   ]
  },
  {
   "cell_type": "markdown",
   "id": "8984da53",
   "metadata": {},
   "source": [
    "Write a for loop which print \"Tech Shoor\" as the user enter the loop value. Also print the \"Tech Shoor\" five times using the for loop which you created."
   ]
  },
  {
   "cell_type": "code",
   "execution_count": 32,
   "id": "ac16aed8",
   "metadata": {},
   "outputs": [
    {
     "name": "stdout",
     "output_type": "stream",
     "text": [
      "For How many times do u want to print Techshoor: 5\n",
      "Techshoor\n",
      "Techshoor\n",
      "Techshoor\n",
      "Techshoor\n",
      "Techshoor\n"
     ]
    }
   ],
   "source": [
    "#Write your Answer in this Cell\n",
    "\n",
    "n=int(input(\"For How many times do u want to print Techshoor: \"))\n",
    "for i in range(n):\n",
    "    print(\"Techshoor\")\n",
    "    \n"
   ]
  },
  {
   "cell_type": "markdown",
   "id": "7f9798b2",
   "metadata": {},
   "source": [
    "# Problem 7"
   ]
  },
  {
   "cell_type": "markdown",
   "id": "b2fbf544",
   "metadata": {},
   "source": [
    "Write a Python program that uses an if else statement to find the smallest of four\n",
    "given integers. (The user should enter the four numbers)."
   ]
  },
  {
   "cell_type": "code",
   "execution_count": 10,
   "id": "91fb9bb4",
   "metadata": {},
   "outputs": [
    {
     "name": "stdout",
     "output_type": "stream",
     "text": [
      "Enter First Number: 7\n",
      "Enter Second Number: 8\n",
      "Enter Third Number: 9\n",
      "Enter Fourth Number: 1\n",
      "Smallest Integer:  1\n"
     ]
    }
   ],
   "source": [
    "#Write your Answer in this Cell\n",
    "\n",
    "a = int(input(\"Enter First Number: \"))\n",
    "b = int(input(\"Enter Second Number: \"))\n",
    "c = int(input(\"Enter Third Number: \"))\n",
    "d = int(input(\"Enter Fourth Number: \"))\n",
    "\n",
    "if( a < b and a < c and a < d ):\n",
    "    print(\"Smallest Integer: \",a)\n",
    "elif( b < a and b < c and b < d ):\n",
    "    print(\"Smallest Integer: \",b)\n",
    "elif( c < a and c < b and c < d ):\n",
    "    print(\"Smallest Integer: \",c)\n",
    "else:\n",
    "    print(\"Smallest Integer: \",d)"
   ]
  },
  {
   "cell_type": "markdown",
   "id": "7776eedc",
   "metadata": {},
   "source": [
    "# Problem 8"
   ]
  },
  {
   "cell_type": "markdown",
   "id": "f96bcbee",
   "metadata": {},
   "source": [
    "Write a function that take two numbers, a and b, and returns the sum of numbers\n",
    "from a to b."
   ]
  },
  {
   "cell_type": "code",
   "execution_count": 34,
   "id": "69788f5e",
   "metadata": {},
   "outputs": [
    {
     "name": "stdout",
     "output_type": "stream",
     "text": [
      "Enter First Number: 0\n",
      "Enter Second Number: 10\n",
      "Sum is  55\n"
     ]
    }
   ],
   "source": [
    "#Write your Answer in this Cell\n",
    "\n",
    "def func():\n",
    "    a=int(input(\"Enter First Number: \"))\n",
    "    b=int(input(\"Enter Second Number: \"))\n",
    "    sum=0\n",
    "    while(a<=b):\n",
    "        sum+=a\n",
    "        a+=1\n",
    "    return sum\n",
    "\n",
    "sum=func()\n",
    "print(\"Sum is \",sum)"
   ]
  },
  {
   "cell_type": "markdown",
   "id": "7ff165d0",
   "metadata": {},
   "source": [
    "# Problem 9"
   ]
  },
  {
   "cell_type": "raw",
   "id": "0870f2b7",
   "metadata": {},
   "source": [
    "Write the Output of this program and explain how it work.\n",
    "\n",
    "temperature = 101\n",
    "if temperature >= 100:\n",
    " print(\"Summer\")\n",
    "elif temperature <= 40:\n",
    " print(\"Winter\")\n",
    "else:\n",
    " print(\"Just right\")\n",
    " \n",
    " Answer:"
   ]
  },
  {
   "cell_type": "code",
   "execution_count": 37,
   "id": "856ec77a",
   "metadata": {},
   "outputs": [
    {
     "ename": "NameError",
     "evalue": "name 'Summer' is not defined",
     "output_type": "error",
     "traceback": [
      "\u001b[1;31m---------------------------------------------------------------------------\u001b[0m",
      "\u001b[1;31mNameError\u001b[0m                                 Traceback (most recent call last)",
      "\u001b[1;32m~\\AppData\\Local\\Temp/ipykernel_5312/1992398521.py\u001b[0m in \u001b[0;36m<module>\u001b[1;34m\u001b[0m\n\u001b[0;32m      1\u001b[0m \u001b[1;31m#Write your Answer in this Cell\u001b[0m\u001b[1;33m\u001b[0m\u001b[1;33m\u001b[0m\u001b[0m\n\u001b[0;32m      2\u001b[0m \u001b[1;33m\u001b[0m\u001b[0m\n\u001b[1;32m----> 3\u001b[1;33m \u001b[0mSummer\u001b[0m\u001b[1;33m\u001b[0m\u001b[1;33m\u001b[0m\u001b[0m\n\u001b[0m",
      "\u001b[1;31mNameError\u001b[0m: name 'Summer' is not defined"
     ]
    }
   ],
   "source": [
    "#Write your Answer in this Cell\n",
    "\n",
    "Summer"
   ]
  },
  {
   "cell_type": "code",
   "execution_count": 91,
   "id": "33d8b7b5",
   "metadata": {},
   "outputs": [],
   "source": [
    "# Explain in this Cell\n",
    "\n",
    "Here a variable temperature is initialized with a value 101. It checks that if its value is greator than or equal to 100 it will\n",
    "print summer. If if first condition is false it will check if value is less than or equal to 40 then it will print Winter.\n",
    "If 2nd condition is also false it will print Just right.\n",
    "\n",
    "Since here first condition is true so it will print Summer\n"
   ]
  },
  {
   "cell_type": "markdown",
   "id": "c3f0d8c5",
   "metadata": {},
   "source": [
    "# Problem 10"
   ]
  },
  {
   "cell_type": "markdown",
   "id": "7c1ca19f",
   "metadata": {},
   "source": [
    "Write a Python program that prompts the user for three numbers, reads them in, and prints out the\n",
    "product (Multiplication)."
   ]
  },
  {
   "cell_type": "code",
   "execution_count": 36,
   "id": "238e8e7a",
   "metadata": {},
   "outputs": [
    {
     "name": "stdout",
     "output_type": "stream",
     "text": [
      "Enter First Number: 2\n",
      "Enter Second Number: 3\n",
      "Enter Third Number: 1\n",
      "6\n"
     ]
    }
   ],
   "source": [
    "#Write your Answer in this Cell\n",
    "\n",
    "a=int(input(\"Enter First Number: \"))\n",
    "b=int(input(\"Enter Second Number: \"))\n",
    "c=int(input(\"Enter Third Number: \"))\n",
    "\n",
    "print(a*b*c)"
   ]
  },
  {
   "cell_type": "markdown",
   "id": "57d81bc0",
   "metadata": {},
   "source": [
    "# Problem 11"
   ]
  },
  {
   "cell_type": "markdown",
   "id": "4200b21b",
   "metadata": {},
   "source": [
    "Given a string T, write a short expression for T string that includes T repeated 7 times."
   ]
  },
  {
   "cell_type": "code",
   "execution_count": 35,
   "id": "38cb61ed",
   "metadata": {},
   "outputs": [
    {
     "name": "stdout",
     "output_type": "stream",
     "text": [
      "TTTTTTT\n"
     ]
    }
   ],
   "source": [
    "#Write your Answer in this Cell\n",
    "\n",
    "T=\"T\"\n",
    "print(T*7)"
   ]
  },
  {
   "cell_type": "markdown",
   "id": "c04e7170",
   "metadata": {},
   "source": [
    "# Problem 12"
   ]
  },
  {
   "cell_type": "raw",
   "id": "a6f9fd50",
   "metadata": {},
   "source": [
    "Write code to create a Python dictionary (the dict type). Add three entries to the dictionary: \n",
    "\n",
    "Associate the key ‘name’ with the value 'Muhmmad Azhar' , and associate the key 'phone' with ‘03010001547’ , another key 'country' with 'PAKISTAN'."
   ]
  },
  {
   "cell_type": "code",
   "execution_count": 11,
   "id": "e9b188a7",
   "metadata": {},
   "outputs": [
    {
     "name": "stdout",
     "output_type": "stream",
     "text": [
      "{'name': 'Muhammad Azhar', 'phone': '03010001547', 'country': 'Pakistan'}\n"
     ]
    }
   ],
   "source": [
    "#Write your Answer in this Cell\n",
    "\n",
    "python_dictionary = { \"name\": \"Muhammad Azhar\", \"phone\": \"03010001547\", \"country\": \"Pakistan\" }\n",
    "print(python_dictionary)\n"
   ]
  },
  {
   "cell_type": "markdown",
   "id": "1136c7d7",
   "metadata": {},
   "source": [
    "# Problem 13"
   ]
  },
  {
   "cell_type": "markdown",
   "id": "52e4fe39",
   "metadata": {},
   "source": [
    "Print your name , email , country , short introduction using a python function."
   ]
  },
  {
   "cell_type": "code",
   "execution_count": 24,
   "id": "6e13cfb7",
   "metadata": {},
   "outputs": [
    {
     "name": "stdout",
     "output_type": "stream",
     "text": [
      "Enter Your Name: Neeraj\n",
      "Enter Your Email: neerajotwani23@gmail.com\n",
      "Country: Pakistan\n",
      "Tell Us About You: VA at Fiverr, Enrolled For BSCS at NUCES 2021\n",
      "Name:  Neeraj\n",
      "Email:  neerajotwani23@gmail.com\n",
      "Country:  Pakistan\n",
      "Introduction:  VA at Fiverr, Enrolled For BSCS at NUCES 2021\n"
     ]
    }
   ],
   "source": [
    "#Write your Answer in this Cell\n",
    "\n",
    "def print_bio(a,b,c,d):\n",
    "    print(\"Name: \",a )\n",
    "    print(\"Email: \",b)\n",
    "    print(\"Country: \",c)\n",
    "    print(\"Introduction: \",d)\n",
    "\n",
    "w=str(input(\"Enter Your Name: \"))\n",
    "x=str(input(\"Enter Your Email: \"))\n",
    "y=str(input(\"Country: \"))\n",
    "z=str(input(\"Tell Us About You: \"))\n",
    "print_bio(w,x,y,z)"
   ]
  },
  {
   "cell_type": "markdown",
   "id": "9b0784de",
   "metadata": {},
   "source": [
    "# Problem 14"
   ]
  },
  {
   "cell_type": "markdown",
   "id": "4f0f9ac1",
   "metadata": {},
   "source": [
    "Print the data type and length of the below variables"
   ]
  },
  {
   "cell_type": "code",
   "execution_count": 96,
   "id": "7368cc71",
   "metadata": {},
   "outputs": [],
   "source": [
    "a = \"Tech Shoor\"\n",
    "b = 13.44\n",
    "c = [6,7,4,4,7]\n",
    "d= {'6','7','4','4','7'}"
   ]
  },
  {
   "cell_type": "code",
   "execution_count": 21,
   "id": "e069f3f4",
   "metadata": {},
   "outputs": [
    {
     "name": "stdout",
     "output_type": "stream",
     "text": [
      "Data Type Of a is  <class 'str'>  and it's length is  10\n",
      "Data Type Of a is  <class 'float'>  and it's has no length cuz it is float\n",
      "Data Type Of a is  <class 'list'>  and it's length is  5\n",
      "Data Type Of a is  <class 'set'>  and being a set it has duplicate values so duplicate values will be discarded and its length becomes 3\n"
     ]
    }
   ],
   "source": [
    "#Write your Answer in this Cell\n",
    "\n",
    "a = \"Tech Shoor\"\n",
    "b = 13.44\n",
    "c = [6,7,4,4,7]\n",
    "d= {'6','7','4','4','7'}\n",
    "\n",
    "print(\"Data Type Of a is \",type(a),\" and it's length is \",len(a))\n",
    "print(\"Data Type Of a is \",type(b),\" and it's has no length cuz it is float\")\n",
    "print(\"Data Type Of a is \",type(c),\" and it's length is \",len(c))\n",
    "print(\"Data Type Of a is \",type(d),\" and being a set it has duplicate values so duplicate values will be discarded and its length becomes\",len(d))"
   ]
  },
  {
   "cell_type": "markdown",
   "id": "4a3ddbac",
   "metadata": {},
   "source": [
    "# Problem 15"
   ]
  },
  {
   "cell_type": "markdown",
   "id": "5aa9b74d",
   "metadata": {},
   "source": [
    "Print out only the \"TechShoor\" using the below list."
   ]
  },
  {
   "cell_type": "code",
   "execution_count": 98,
   "id": "e99661b8",
   "metadata": {},
   "outputs": [],
   "source": [
    "tech = \"pythonTechShoorcourse\""
   ]
  },
  {
   "cell_type": "code",
   "execution_count": 15,
   "id": "65ef4dc5",
   "metadata": {},
   "outputs": [
    {
     "name": "stdout",
     "output_type": "stream",
     "text": [
      "TechShoor\n"
     ]
    }
   ],
   "source": [
    "#Write your Answer in this Cell\n",
    "tech = \"pythonTechShoorcourse\"\n",
    "print(tech[6:15])"
   ]
  },
  {
   "cell_type": "markdown",
   "id": "5ae61f25",
   "metadata": {},
   "source": [
    "# Problem 16"
   ]
  },
  {
   "cell_type": "markdown",
   "id": "a4ebeb9f",
   "metadata": {},
   "source": [
    "In your Own words briefly describe Pthon Programing Language.why it is Important."
   ]
  },
  {
   "cell_type": "raw",
   "id": "b44cd889",
   "metadata": {},
   "source": [
    "#Write your Answer in this Cell\n",
    "\n",
    "Python is a high level language which uses an interpreter to convert source code into machine readable language. This language is very close to English Language has a easy syntax. Its's indentation property increases its code readability. It also supports object oriented programming.\n"
   ]
  },
  {
   "cell_type": "markdown",
   "id": "79857904",
   "metadata": {},
   "source": [
    "# Problem 17"
   ]
  },
  {
   "cell_type": "markdown",
   "id": "4df6246c",
   "metadata": {},
   "source": [
    "Hasan, Bilal and Afaq have agreed to pool their candy and split it evenly among themselves. For the sake of their friendship, any candies left over will be smashed. For example, if they collectively bring home 91 candies, they'll take 30 each and smash 1. Write an arithmetic expression to calculate how many candies they must smash for a given candies."
   ]
  },
  {
   "cell_type": "code",
   "execution_count": 20,
   "id": "fabced34",
   "metadata": {},
   "outputs": [
    {
     "name": "stdout",
     "output_type": "stream",
     "text": [
      "Enter The Total Number Of Candies: 32\n",
      "Smash  2  candies\n"
     ]
    }
   ],
   "source": [
    "#Write your Answer in this Cell\n",
    "\n",
    "x=int(input(\"Enter The Total Number Of Candies: \"))\n",
    "x=int(x-(int(x/3))*3)\n",
    "print(\"Smash \",x,\" candies\")"
   ]
  },
  {
   "cell_type": "markdown",
   "id": "4d19a94c",
   "metadata": {},
   "source": [
    "# Problem 18"
   ]
  },
  {
   "cell_type": "markdown",
   "id": "d60b58a9",
   "metadata": {},
   "source": [
    "Call the Function and Print 'Hello' & 'World' in one line."
   ]
  },
  {
   "cell_type": "code",
   "execution_count": 2,
   "id": "996e26c1",
   "metadata": {},
   "outputs": [],
   "source": [
    "def function1():\n",
    " print('Hello')\n",
    "def function2():\n",
    " print('World')\n",
    "\n"
   ]
  },
  {
   "cell_type": "code",
   "execution_count": 38,
   "id": "d19b4c6c",
   "metadata": {},
   "outputs": [
    {
     "name": "stdout",
     "output_type": "stream",
     "text": [
      "Hello World\n"
     ]
    }
   ],
   "source": [
    "#Write your Answer in this Cell\n",
    "def function1():\n",
    " print('Hello',end=\" \")\n",
    "def function2():\n",
    " print('World')\n",
    "\n",
    "\n",
    "\n",
    "\n",
    "function1()\n",
    "function2()"
   ]
  },
  {
   "cell_type": "markdown",
   "id": "88a65bc0",
   "metadata": {},
   "source": [
    "# Problem 19"
   ]
  },
  {
   "cell_type": "markdown",
   "id": "abfaa571",
   "metadata": {},
   "source": [
    "Save your Name in txt file, using filing."
   ]
  },
  {
   "cell_type": "code",
   "execution_count": 39,
   "id": "08fdccb4",
   "metadata": {},
   "outputs": [],
   "source": [
    "#Write your Answer in this Cell\n",
    "with open(\"file.txt\",\"w\") as file:\n",
    "    file.write(\"Neeraj\")\n"
   ]
  },
  {
   "cell_type": "markdown",
   "id": "248d3e3e",
   "metadata": {},
   "source": [
    "# Problem 20"
   ]
  },
  {
   "cell_type": "markdown",
   "id": "a878ac69",
   "metadata": {},
   "source": [
    "Reverse the Below variable using Slicing."
   ]
  },
  {
   "cell_type": "code",
   "execution_count": 104,
   "id": "af98c83e",
   "metadata": {},
   "outputs": [],
   "source": [
    "techlist =  \"maxE laniF nohtyP fo noitseuQ tsaL eht gnitelpmoc no noitalutargnoc\""
   ]
  },
  {
   "cell_type": "code",
   "execution_count": 11,
   "id": "8939bfac",
   "metadata": {},
   "outputs": [
    {
     "name": "stdout",
     "output_type": "stream",
     "text": [
      "congratulation on completing the Last Question of Python Final Exam\n"
     ]
    }
   ],
   "source": [
    "#Write your Answer in this Cell\n",
    "\n",
    "techlist =  \"maxE laniF nohtyP fo noitseuQ tsaL eht gnitelpmoc no noitalutargnoc\"\n",
    "print(techlist[::-1])"
   ]
  },
  {
   "cell_type": "markdown",
   "id": "1a73cbc0",
   "metadata": {},
   "source": [
    "# Survey"
   ]
  },
  {
   "cell_type": "markdown",
   "id": "6993c248",
   "metadata": {},
   "source": [
    "How you rate this course?"
   ]
  },
  {
   "cell_type": "raw",
   "id": "d9fc3db8",
   "metadata": {},
   "source": [
    "Your Answer:\n",
    "\n",
    "This Course was very helpful to me. By this i learned Python nicely and all the three teachers worked hard to make us understand the course and solved our queries. 5 star Rating.\n",
    "\n"
   ]
  },
  {
   "cell_type": "markdown",
   "id": "4d079f6c",
   "metadata": {},
   "source": [
    "Do you want to have another course by TechShoor?"
   ]
  },
  {
   "cell_type": "raw",
   "id": "2cac03bb",
   "metadata": {},
   "source": [
    "Your Answer:\n",
    "Yes\n",
    "\n"
   ]
  },
  {
   "cell_type": "markdown",
   "id": "9e775d79",
   "metadata": {},
   "source": [
    "If yes Name the course you want to start with TechShoor."
   ]
  },
  {
   "cell_type": "raw",
   "id": "5d780ea6",
   "metadata": {},
   "source": [
    "Your Answer:\n",
    "\n",
    "Networking and Security\n",
    "\n"
   ]
  },
  {
   "cell_type": "markdown",
   "id": "b106804a",
   "metadata": {},
   "source": [
    "#Done"
   ]
  }
 ],
 "metadata": {
  "kernelspec": {
   "display_name": "Python 3 (ipykernel)",
   "language": "python",
   "name": "python3"
  },
  "language_info": {
   "codemirror_mode": {
    "name": "ipython",
    "version": 3
   },
   "file_extension": ".py",
   "mimetype": "text/x-python",
   "name": "python",
   "nbconvert_exporter": "python",
   "pygments_lexer": "ipython3",
   "version": "3.9.7"
  }
 },
 "nbformat": 4,
 "nbformat_minor": 5
}
