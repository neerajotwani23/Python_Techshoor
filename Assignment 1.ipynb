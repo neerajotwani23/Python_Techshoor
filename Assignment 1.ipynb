{
 "cells": [
  {
   "cell_type": "markdown",
   "id": "5c2ab5cf",
   "metadata": {},
   "source": [
    "# Assignment 1"
   ]
  },
  {
   "cell_type": "markdown",
   "id": "57b5e248",
   "metadata": {},
   "source": [
    "### Q1Take input first name and last name from user store in two variables and then concatenate both variables and print full name"
   ]
  },
  {
   "cell_type": "code",
   "execution_count": 4,
   "id": "57ce7797",
   "metadata": {},
   "outputs": [
    {
     "name": "stdout",
     "output_type": "stream",
     "text": [
      "Enter Your First Name: Neeraj\n",
      "Enter Your Last Name: Otwani\n",
      "Neeraj Otwani\n"
     ]
    }
   ],
   "source": [
    "x = str(input(\"Enter Your First Name: \"))\n",
    "y = str(input(\"Enter Your Last Name: \"))\n",
    "print(x,y)"
   ]
  },
  {
   "cell_type": "markdown",
   "id": "11fd6687",
   "metadata": {},
   "source": [
    "### Q2 Write a Python program to take input from user as a string then print first 2 and the last 2 chars from a given a string."
   ]
  },
  {
   "cell_type": "code",
   "execution_count": 1,
   "id": "11272b81",
   "metadata": {},
   "outputs": [
    {
     "name": "stdout",
     "output_type": "stream",
     "text": [
      "Enter the string: Neeraj\n",
      "First Two Characters:  Ne Last Two Characters:  aj\n"
     ]
    }
   ],
   "source": [
    "a=str(input(\"Enter the string: \"))\n",
    "print(\"First Two Characters: \",(a[0:2]),\"Last Two Characters: \",a[-2:])\n"
   ]
  },
  {
   "cell_type": "markdown",
   "id": "72d58e06",
   "metadata": {},
   "source": [
    "### Q3 Write a Python program to remove the “h” character from the “TechShoor”."
   ]
  },
  {
   "cell_type": "code",
   "execution_count": 17,
   "id": "66b43238",
   "metadata": {},
   "outputs": [
    {
     "name": "stdout",
     "output_type": "stream",
     "text": [
      "TecSoor\n"
     ]
    }
   ],
   "source": [
    "d=\"TechShoor\"\n",
    "print(d.replace('h', ''))"
   ]
  },
  {
   "cell_type": "markdown",
   "id": "8908f564",
   "metadata": {},
   "source": [
    "### Q4 Write a Python program that accepts a comma separated sequence of words as input and prints the unique words in sorted form (alphanumerically).Sample Words: car, bike, truck, cycle, skateboard, civic"
   ]
  },
  {
   "cell_type": "code",
   "execution_count": 42,
   "id": "f45b81c4",
   "metadata": {},
   "outputs": [
    {
     "name": "stdout",
     "output_type": "stream",
     "text": [
      "Enter a comma seperated sequence of words: car, bike, truck, cycle, skateboard, civic\n",
      "['car,', 'bike,', 'truck,', 'cycle,', 'skateboard,', 'civic']\n"
     ]
    }
   ],
   "source": [
    "i=str(input(\"Enter a comma seperated sequence of words: \"))\n",
    "unique = i.split()\n",
    "print(unique)"
   ]
  },
  {
   "cell_type": "markdown",
   "id": "9b8ee0ff",
   "metadata": {},
   "source": [
    "### Q5 Write a Python Program take sample string: “I am a bad person” to replace with “I am a good person”. Hint (Use replace function)"
   ]
  },
  {
   "cell_type": "code",
   "execution_count": 18,
   "id": "55493d07",
   "metadata": {},
   "outputs": [
    {
     "name": "stdout",
     "output_type": "stream",
     "text": [
      "I am a good person\n"
     ]
    }
   ],
   "source": [
    "e=\"I am a bad person\"\n",
    "print(e.replace('bad','good'))"
   ]
  },
  {
   "cell_type": "markdown",
   "id": "cd70f5e2",
   "metadata": {},
   "source": [
    "### Q6 Write a Python program to reverse any string."
   ]
  },
  {
   "cell_type": "code",
   "execution_count": 6,
   "id": "0913e1bd",
   "metadata": {},
   "outputs": [
    {
     "name": "stdout",
     "output_type": "stream",
     "text": [
      "Enter a String: Neeraj\n",
      "Reverse:  jareeN\n"
     ]
    }
   ],
   "source": [
    "b=str(input(\"Enter a String: \"))\n",
    "print(\"Reverse: \",b[::-1])"
   ]
  },
  {
   "cell_type": "markdown",
   "id": "577a58d2",
   "metadata": {},
   "source": [
    "### Q7 Write a Python program which accepts the radius of a circle from the user and compute the area"
   ]
  },
  {
   "cell_type": "code",
   "execution_count": 13,
   "id": "46302883",
   "metadata": {},
   "outputs": [
    {
     "name": "stdout",
     "output_type": "stream",
     "text": [
      "Enter Radius Of Circle: 42\n",
      "Area Of Circle=  5542.488\n"
     ]
    }
   ],
   "source": [
    "c=float(input(\"Enter Radius Of Circle: \"))\n",
    "pie=3.142\n",
    "print(\"Area Of Circle= \",(c**2)*pie)"
   ]
  },
  {
   "cell_type": "markdown",
   "id": "3850d064",
   "metadata": {},
   "source": [
    "### Q8 Write a Python Program to count how many times ‘o’ in “Gooooooooooooooooogle”"
   ]
  },
  {
   "cell_type": "code",
   "execution_count": 20,
   "id": "fadae19f",
   "metadata": {},
   "outputs": [
    {
     "name": "stdout",
     "output_type": "stream",
     "text": [
      "17\n"
     ]
    }
   ],
   "source": [
    "f=\"Gooooooooooooooooogle\"\n",
    "print(f.count('o'))"
   ]
  },
  {
   "cell_type": "markdown",
   "id": "9edfe853",
   "metadata": {},
   "source": [
    "### Q9 Create a Python Program to slice this string “I like to eat banana” and print only “ike to eat”"
   ]
  },
  {
   "cell_type": "code",
   "execution_count": 21,
   "id": "f3f2e58f",
   "metadata": {},
   "outputs": [
    {
     "name": "stdout",
     "output_type": "stream",
     "text": [
      "ike to eat\n"
     ]
    }
   ],
   "source": [
    "g=\"I like to eat banana\"\n",
    "print(g[3:13])"
   ]
  },
  {
   "cell_type": "markdown",
   "id": "1ed23ae9",
   "metadata": {},
   "source": [
    "### Q10 Write a Python program to print the following string in a specific format. (see Output)"
   ]
  },
  {
   "cell_type": "raw",
   "id": "6c2b61ee",
   "metadata": {},
   "source": [
    "Sample String : \"Twinkle, twinkle, little star, How I wonder what you are! Up above the world so high, Like a diamond in the sky. Twinkle, twinkle, little star,How I wonder what you are\"\n",
    "\n",
    "Output :\n",
    "\n",
    "Twinkle, twinkle, little star,\n",
    "  How I wonder what you are!\n",
    "        Up above the world so high,\n",
    "        Like a diamond in the sky.\n",
    "Twinkle, twinkle, little star,\n",
    "  How I wonder what you are\n",
    "  \n",
    "The above output is required in print form"
   ]
  },
  {
   "cell_type": "code",
   "execution_count": 37,
   "id": "e9f5d2a6",
   "metadata": {},
   "outputs": [
    {
     "name": "stdout",
     "output_type": "stream",
     "text": [
      "Twinkle, twinkle, little star,\n",
      "  How I wonder what you are!\n",
      "       Up above the world so high,\n",
      "       Like a diamond in the sky. \n",
      "Twinkle, twinkle, little star,\n",
      " How I wonder what you are\n"
     ]
    }
   ],
   "source": [
    "h = \"Twinkle, twinkle, little star, How I wonder what you are! Up above the world so high, Like a diamond in the sky. Twinkle, twinkle, little star,How I wonder what you are\"\n",
    "print(h[0:30])\n",
    "print(\"\",h[30:57])\n",
    "print(\"      \",h[58:85])\n",
    "print(\"      \",h[86:113])\n",
    "print(h[113:143])\n",
    "print(\"\",h[143:])\n"
   ]
  },
  {
   "cell_type": "code",
   "execution_count": null,
   "id": "78cdfbec",
   "metadata": {},
   "outputs": [],
   "source": []
  }
 ],
 "metadata": {
  "kernelspec": {
   "display_name": "Python 3",
   "language": "python",
   "name": "python3"
  },
  "language_info": {
   "codemirror_mode": {
    "name": "ipython",
    "version": 3
   },
   "file_extension": ".py",
   "mimetype": "text/x-python",
   "name": "python",
   "nbconvert_exporter": "python",
   "pygments_lexer": "ipython3",
   "version": "3.8.8"
  }
 },
 "nbformat": 4,
 "nbformat_minor": 5
}
